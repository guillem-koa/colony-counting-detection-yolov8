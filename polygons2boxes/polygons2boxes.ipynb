{
 "cells": [
  {
   "cell_type": "code",
   "execution_count": 1,
   "metadata": {},
   "outputs": [],
   "source": [
    "import csv\n",
    "import os"
   ]
  },
  {
   "cell_type": "code",
   "execution_count": 2,
   "metadata": {},
   "outputs": [],
   "source": [
    "def polygons2boxes(polygons_txt_filename):\n",
    "    # Open the file in read mode\n",
    "    filename = polygons_txt_filename\n",
    "    file = open(filename, \"r\")\n",
    "    reader = csv.reader(file, delimiter=' ') \n",
    "    polygons = [row for row in reader]\n",
    "    file.close()\n",
    "\n",
    "    boxes = []\n",
    "    for polygon in polygons:\n",
    "        label, xcoords, ycoords = polygon[0], polygon[1::2], polygon[2::2]\n",
    "        minx, maxx, miny, maxy = float(min(xcoords)), float(max(xcoords)), float(min(ycoords)), float(max(ycoords))\n",
    "        xcenter, ycenter, halfwidth, halfheight = round((minx + maxx)/2, 6), round((miny + maxy)/2, 6), round((-minx + maxx)/2, 6), round((-miny + maxy)/2, 6)\n",
    "        box = [label] + [xcenter, ycenter, 2*halfwidth, 2*halfheight]\n",
    "        boxes.append(box)\n",
    "\n",
    "        #with open('{}.txt'.format(os.path.splitext(os.path.join(masks_dir,mask_file))[0]), 'w') as f: \n",
    "        with open('{}.txt'.format(filename.split('.')[0]), 'w') as f: \n",
    "                for box in boxes:\n",
    "                    for i, p in enumerate(box):\n",
    "                        if i == len(box) - 1:\n",
    "                            f.write('{}\\n'.format(p))\n",
    "                        else:\n",
    "                            f.write('{} '.format(p))"
   ]
  },
  {
   "cell_type": "code",
   "execution_count": 3,
   "metadata": {},
   "outputs": [],
   "source": [
    "os.chdir(\"../data/labels/train\")\n",
    "#os.chdir(\"../train\")"
   ]
  },
  {
   "cell_type": "code",
   "execution_count": 4,
   "metadata": {},
   "outputs": [],
   "source": [
    "# Replace annotation segmentation texts with detection annot texts\n",
    "for text_file in os.listdir():\n",
    "    polygons2boxes(text_file)"
   ]
  },
  {
   "cell_type": "code",
   "execution_count": 5,
   "metadata": {},
   "outputs": [],
   "source": [
    "os.chdir(\"../val\")"
   ]
  },
  {
   "cell_type": "code",
   "execution_count": 6,
   "metadata": {},
   "outputs": [],
   "source": [
    "for text_file in os.listdir():\n",
    "    polygons2boxes(text_file)"
   ]
  },
  {
   "cell_type": "code",
   "execution_count": null,
   "metadata": {},
   "outputs": [],
   "source": []
  }
 ],
 "metadata": {
  "kernelspec": {
   "display_name": "Python 3",
   "language": "python",
   "name": "python3"
  },
  "language_info": {
   "codemirror_mode": {
    "name": "ipython",
    "version": 3
   },
   "file_extension": ".py",
   "mimetype": "text/x-python",
   "name": "python",
   "nbconvert_exporter": "python",
   "pygments_lexer": "ipython3",
   "version": "3.11.3"
  },
  "orig_nbformat": 4
 },
 "nbformat": 4,
 "nbformat_minor": 2
}
